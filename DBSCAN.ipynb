{
 "cells": [
  {
   "cell_type": "markdown",
   "metadata": {},
   "source": [
    "# 정의\n",
    "* Density-Based Spatial Clustering of Applications with Noise\n",
    "* 데이터가 밀집한 정도 즉 밀도를 이용한다.\n",
    "* 어느 점을 기준으로 반경 r내에 점이 k개 이상 있으면 하나의 군집으로 인식하는 방식이다.\n",
    "* 초기 데이터로부터 근접한 데이터를 찾아나가는 방법으로 군집을 확장한다. 이 때 다음 사용자 인수를 사용한다.\\\n",
    "    $\\blacktriangleright$ 최소거리 $\\epsilon$: 이웃을 정의하기 위한 거리\\\n",
    "    $\\blacktriangleright$ 최소 데이터 개수: 밀집지역을 정의하기 위해 필요한 이웃의 개수\n",
    "* 만약  ε  최소 거리안의 이웃 영역 안에 최소 데이터 갯수 이상의 데이터가 있으면 그 데이터는 핵심(core) 데이터다.\n",
    "* 만약 고밀도 데이터에 더이상 이웃이 없으면 이 데이터는 경계(border) 데이터라고 한다.\n",
    "* 핵심 데이터도 아니고 경계 데이터도 아닌 데이터를 outlier라고 한다."
   ]
  },
  {
   "cell_type": "markdown",
   "metadata": {},
   "source": [
    "![DBSCAN_1](DBSCAN_1.png)"
   ]
  },
  {
   "cell_type": "markdown",
   "metadata": {},
   "source": [
    "# 특징\n",
    "* 군집의 형태에 구애받지 않으며 군집의 갯수를 사용자가 지정할 필요가 없다."
   ]
  },
  {
   "cell_type": "markdown",
   "metadata": {},
   "source": [
    "# 비교\n",
    "K-means나 Hierarchical clustering의 경우 군집 간의 거리를 이용하여 군집을 구분하고, DBSCAN은 밀도를 이용하여 군집을 구분한다.\n",
    "\n",
    "## 1) K-means\n",
    "k-means 방법은 단순하지만, 군집의 모양이 원형이 아닌 경우에는 잘 작동하지 않으며 군집의 개수를 사용자가 지정해야한다.\n"
   ]
  },
  {
   "cell_type": "markdown",
   "metadata": {},
   "source": [
    "# 참고자료\n",
    "* 데이터 사이언스 스쿨\\\n",
    "    $\\blacktriangleright$ https://datascienceschool.net/view-notebook/e335aec955e844a981b41e4e11f79174/\n",
    "* 조대협의 블로그\\\n",
    "    $\\blacktriangleright$ \n",
    "    https://bcho.tistory.com/1205"
   ]
  }
 ],
 "metadata": {
  "kernelspec": {
   "display_name": "Python 3",
   "language": "python",
   "name": "python3"
  },
  "language_info": {
   "codemirror_mode": {
    "name": "ipython",
    "version": 3
   },
   "file_extension": ".py",
   "mimetype": "text/x-python",
   "name": "python",
   "nbconvert_exporter": "python",
   "pygments_lexer": "ipython3",
   "version": "3.7.6"
  }
 },
 "nbformat": 4,
 "nbformat_minor": 4
}
